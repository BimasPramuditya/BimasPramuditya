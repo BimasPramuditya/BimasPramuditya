{
 "cells": [
  {
   "cell_type": "code",
   "execution_count": 1,
   "id": "1cc46334",
   "metadata": {},
   "outputs": [
    {
     "name": "stdout",
     "output_type": "stream",
     "text": [
      "#/################################################################################/\n",
      "/                                                                                 /\n",
      "/                          Bimas Herpi Pramuditya                                 /\n",
      "/                            20/462155/PA/20105                                   /\n",
      "/                       bimaspramuditya@mail.ugm.ac.id                            /\n",
      "/                                                                                 /\n",
      "#/################################################################################/\n"
     ]
    }
   ],
   "source": [
    "print (\"#/################################################################################/\")\n",
    "print (\"/                                                                                 /\")\n",
    "print (\"/                          Bimas Herpi Pramuditya                                 /\")\n",
    "print (\"/                            20/462155/PA/20105                                   /\")\n",
    "print (\"/                       bimaspramuditya@mail.ugm.ac.id                            /\")\n",
    "print (\"/                                                                                 /\")\n",
    "print (\"#/################################################################################/\")"
   ]
  },
  {
   "cell_type": "code",
   "execution_count": null,
   "id": "80e898f5",
   "metadata": {},
   "outputs": [],
   "source": []
  }
 ],
 "metadata": {
  "kernelspec": {
   "display_name": "Python 3",
   "language": "python",
   "name": "python3"
  },
  "language_info": {
   "codemirror_mode": {
    "name": "ipython",
    "version": 3
   },
   "file_extension": ".py",
   "mimetype": "text/x-python",
   "name": "python",
   "nbconvert_exporter": "python",
   "pygments_lexer": "ipython3",
   "version": "3.9.1"
  }
 },
 "nbformat": 4,
 "nbformat_minor": 5
}
